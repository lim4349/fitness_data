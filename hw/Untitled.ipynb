{
 "cells": [
  {
   "cell_type": "code",
   "execution_count": null,
   "metadata": {},
   "outputs": [],
   "source": [
    "import os\n",
    "path_dir = 'sokulee/'\n",
    "file_list = os.listdir(path_dir)\n",
    "\n",
    "\n",
    "all_user_hearts = pd.DataFrame(columns=['USERNAME', 'DATE', 'TIME', 'VALUE'])\n",
    "\n",
    "for folder in sorted(file_list):\n",
    "    for file in sorted(os.listdir(path_dir + folder)):\n",
    "        if file.find('heart') is not -1:\n",
    "                data = json.load(open(path_dir + folder + '/' + file))\n",
    "                \n",
    "                df = pd.DataFrame(data[\"activities-heart-intraday\"])['dataset']\n",
    "                if len(df) == 0:\n",
    "                    continue\n",
    "                df2 = pd.DataFrame(data['activities-heart'])['dateTime']\n",
    "                \n",
    "                df = df.fillna(0)\n",
    "                df2 = df2.fillna(0)\n",
    "                \n",
    "                user_name = file.split('_')[0]\n",
    "\n",
    "                series = pd.DataFrame(list(df))\n",
    "                \n",
    "                time = series['time']\n",
    "                value = series['value']\n",
    "                date = df2[0]\n",
    "\n",
    "\n",
    "                all_data = pd.DataFrame({'USERNAME': user_name,\n",
    "                                     'DATE': date,\n",
    "                                     'TIME': time, \n",
    "                                     'VALUE': value})\n",
    "\n",
    "                all_user_hearts = pd.concat([all_user_hearts, all_data])\n",
    "\n",
    "all_user_hearts.to_csv('all_user_hearts.csv', index=False)\n",
    "            \n",
    "print('can you feel my heartbeat?')"
   ]
  },
  {
   "cell_type": "code",
   "execution_count": 5,
   "metadata": {
    "scrolled": true
   },
   "outputs": [
    {
     "name": "stdout",
     "output_type": "stream",
     "text": [
      "can you feel my steps?\n"
     ]
    }
   ],
   "source": [
    "import os\n",
    "path_dir = 'sokulee/'\n",
    "file_list = os.listdir(path_dir)\n",
    "\n",
    "\n",
    "all_user_steps = pd.DataFrame(columns=['USERNAME', 'DATE', 'TIME', 'HOUR', 'MINUTES', 'STEPS'])\n",
    "\n",
    "for folder in sorted(file_list):\n",
    "    for file in sorted(os.listdir(path_dir + folder)):\n",
    "        if file.find('steps') is not -1:\n",
    "            try:\n",
    "                data = json.load(open(path_dir + folder + '/' + file))\n",
    "\n",
    "                user_name = file.split('_')[0]\n",
    "\n",
    "                df = pd.DataFrame(data['activities-steps-intraday'])['dataset']\n",
    "                df2 = pd.DataFrame(data['activities-steps'])['dateTime']\n",
    "\n",
    "                if len(df) == 0:\n",
    "                        continue\n",
    "\n",
    "                series = pd.DataFrame(list(df))\n",
    "                time = series['time']\n",
    "                time = pd.to_datetime(time)\n",
    "                hour = time.dt.hour\n",
    "                minute = time.dt.minute\n",
    "                steps = series['value']\n",
    "                date = df2[0]\n",
    "                time = time.dt.time\n",
    "\n",
    "                all_data = pd.DataFrame({'USERNAME': user_name,\n",
    "                                    'DATE': date,\n",
    "                                    'TIME': time,\n",
    "                                    'HOUR': hour,\n",
    "                                    'MINUTES': minute,\n",
    "                                    'STEPS': steps})\n",
    "\n",
    "                all_user_steps = pd.concat([all_user_steps, all_data])\n",
    "            except:\n",
    "                pass\n",
    "all_user_steps.to_csv('all_user_steps.csv', index=False)\n",
    "            \n",
    "print('can you feel my steps?')"
   ]
  },
  {
   "cell_type": "code",
   "execution_count": 57,
   "metadata": {},
   "outputs": [
    {
     "name": "stdout",
     "output_type": "stream",
     "text": [
      "can you feel my sleeps?\n"
     ]
    }
   ],
   "source": [
    "import os\n",
    "path_dir = 'sokulee/'\n",
    "file_list = os.listdir(path_dir)\n",
    "\n",
    "\n",
    "all_user_sleeps = pd.DataFrame(columns=['USERNAME', 'DATE', 'STARTTIME', 'MINUTESASLEEP', 'MINUTESAWAKE', 'TIMEINBED'])\n",
    "\n",
    "for folder in sorted(file_list):\n",
    "    for file in sorted(os.listdir(path_dir + folder)):\n",
    "        if file.find('sleep') is not -1:\n",
    "            try:\n",
    "                data = json.load(open(path_dir + folder + '/' + file))\n",
    "                user_name = file.split('_')[0]\n",
    "\n",
    "                df = pd.DataFrame(data['sleep'])\n",
    "                if len(df) >= 2:\n",
    "                    df = df.groupby(['dateOfSleep']).max().reset_index()\n",
    "                series = pd.DataFrame(df)\n",
    "\n",
    "                date = series['dateOfSleep']\n",
    "                starttime = series['startTime']\n",
    "                starttime = pd.to_datetime(starttime).dt.time\n",
    "                minuteasleep = series['minutesAsleep']\n",
    "                minutesawake = series['minutesAwake']\n",
    "                timeinbed = series['timeInBed']\n",
    "\n",
    "                all_data = pd.DataFrame({'USERNAME': user_name,\n",
    "                                    'DATE': date,\n",
    "                                    'STARTTIME': starttime,\n",
    "                                    'MINUTESASLEEP': minuteasleep,\n",
    "                                    'MINUTESAWAKE': minutesawake,\n",
    "                                    'TIMEINBED': timeinbed})\n",
    "\n",
    "                all_user_sleeps = pd.concat([all_user_sleeps, all_data])\n",
    "            except:\n",
    "                pass\n",
    "all_user_sleeps.to_csv('all_user_sleeps.csv', index=False)\n",
    "            \n",
    "print('can you feel my sleeps?')"
   ]
  },
  {
   "cell_type": "code",
   "execution_count": null,
   "metadata": {},
   "outputs": [],
   "source": []
  }
 ],
 "metadata": {
  "kernelspec": {
   "display_name": "Python 3",
   "language": "python",
   "name": "python3"
  },
  "language_info": {
   "codemirror_mode": {
    "name": "ipython",
    "version": 3
   },
   "file_extension": ".py",
   "mimetype": "text/x-python",
   "name": "python",
   "nbconvert_exporter": "python",
   "pygments_lexer": "ipython3",
   "version": "3.7.1"
  }
 },
 "nbformat": 4,
 "nbformat_minor": 2
}
